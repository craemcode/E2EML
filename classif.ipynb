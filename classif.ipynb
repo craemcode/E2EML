{
 "cells": [
  {
   "cell_type": "markdown",
   "metadata": {},
   "source": [
    "# Reading Handwritten Digits using Classification"
   ]
  },
  {
   "cell_type": "markdown",
   "metadata": {},
   "source": [
    "This project will be using the MNIST dataset, which comprises over 70,000 small images of handwritten digits. \n",
    "\n",
    "The MNIST is one of the most popular datasets. It is thus available on Scikit learn. \n",
    "\n",
    "The following code shows fetching the dataset."
   ]
  },
  {
   "cell_type": "code",
   "execution_count": 1,
   "metadata": {},
   "outputs": [
    {
     "data": {
      "text/plain": [
       "dict_keys(['data', 'target', 'frame', 'categories', 'feature_names', 'target_names', 'DESCR', 'details', 'url'])"
      ]
     },
     "execution_count": 1,
     "metadata": {},
     "output_type": "execute_result"
    }
   ],
   "source": [
    "from sklearn.datasets import fetch_openml\n",
    "\n",
    "mnist = fetch_openml(\"mnist_784\",version=1)\n",
    "\n",
    "mnist.keys()"
   ]
  },
  {
   "cell_type": "markdown",
   "metadata": {},
   "source": [
    "Data on sci-kit learn will contain \n",
    "<ul>\n",
    "<li>A descr key describing the dataset</li>\n",
    "<li>A data key containing an array with one row per instance and one column per feature.\n",
    "<li>A target key containing an array with labels</li>\n",
    "</ul>"
   ]
  },
  {
   "cell_type": "code",
   "execution_count": 5,
   "metadata": {},
   "outputs": [
    {
     "name": "stdout",
     "output_type": "stream",
     "text": [
      "(70000, 784) (70000,)\n"
     ]
    }
   ],
   "source": [
    "X,y = mnist[\"data\"], mnist[\"target\"]\n",
    "\n",
    "print(X.shape,y.shape)"
   ]
  },
  {
   "cell_type": "markdown",
   "metadata": {},
   "source": [
    "The above cell shows the dataset has 70,000 instances, and each instance has 784 features. Why 784?\n",
    "\n",
    "Each image has 28 by 28 pixels, which is equal to 784. Each feature is the intensity of a dataset."
   ]
  },
  {
   "cell_type": "markdown",
   "metadata": {},
   "source": [
    "To create an image, you have to grab the instance's feature vector, reshape it into a 28 by 28 arraym and display it using the matplotlib's <code>imshow()</code> function."
   ]
  },
  {
   "cell_type": "code",
   "execution_count": 27,
   "metadata": {},
   "outputs": [
    {
     "data": {
      "image/png": "[encoded data removed]",
      "text/plain": [
       "<Figure size 432x288 with 1 Axes>"
      ]
     },
     "metadata": {
      "needs_background": "light"
     },
     "output_type": "display_data"
    }
   ],
   "source": [
    "import matplotlib as mpl\n",
    "import matplotlib.pyplot as plt\n",
    "\n",
    "a_digit = X.iloc[0]\n",
    "\n",
    "#reshape is called on the values attribute to retain the shape of the original series object.\n",
    "a_digit_image = a_digit.values.reshape(28,28)\n",
    "\n",
    "plt.imshow(a_digit_image,cmap=mpl.cm.binary, interpolation=\"nearest\")\n",
    "plt.axis(\"off\")\n",
    "plt.show()\n"
   ]
  },
  {
   "cell_type": "code",
   "execution_count": 28,
   "metadata": {},
   "outputs": [
    {
     "data": {
      "text/plain": [
       "'5'"
      ]
     },
     "execution_count": 28,
     "metadata": {},
     "output_type": "execute_result"
    }
   ],
   "source": [
    "y[0]"
   ]
  },
  {
   "cell_type": "markdown",
   "metadata": {},
   "source": [
    "The image shown above looks like a 5. Indeed, looking at the label, we see that it is 5. Well then!\n",
    "\n",
    "The label is a string, and we would like to work with integers. We thus cast it into an int."
   ]
  },
  {
   "cell_type": "code",
   "execution_count": 29,
   "metadata": {},
   "outputs": [],
   "source": [
    "import numpy as np\n",
    "\n",
    "\n",
    "y = y.astype(np.uint8)"
   ]
  },
  {
   "cell_type": "markdown",
   "metadata": {},
   "source": [
    "That was a general look. Remember we have to split the dataset into train and test sets before we begin looking closely into the data. "
   ]
  },
  {
   "cell_type": "code",
   "execution_count": 30,
   "metadata": {},
   "outputs": [],
   "source": [
    "\n",
    "#the first 60k instances are for training while the last 10k are for testing\n",
    "\n",
    "X_train, X_test, y_train, y_test = X[:60000], X[60000:], y[:60000], y[60000:]"
   ]
  },
  {
   "cell_type": "markdown",
   "metadata": {},
   "source": [
    "<strong>The dataset has already been shuffled. Thus, we are assured the cross validation sets will have one of every digit.</strong>"
   ]
  },
  {
   "cell_type": "markdown",
   "metadata": {},
   "source": [
    "## Binary classification."
   ]
  },
  {
   "cell_type": "markdown",
   "metadata": {},
   "source": [
    "First, let us identify a single digit. We want to see if we can successfully discriminate 5 from other digits.\n",
    "\n",
    "Thus, there will be two classes:\n",
    "\n",
    "Five, and not five"
   ]
  },
  {
   "cell_type": "code",
   "execution_count": 31,
   "metadata": {},
   "outputs": [],
   "source": [
    "y_train_5 = (y_train == 5)\n",
    "\n",
    "y_test_5 = (y_test == 5)"
   ]
  },
  {
   "cell_type": "markdown",
   "metadata": {},
   "source": [
    "Next, we pick a classifier and train it. \n",
    "\n",
    "We first start with the <i>Schochastic Gradient Descent</i> classfier, which can be accessed using scikit learn's <code>SGDClassier</code>\n",
    "\n",
    "The classifier can handle large dataset efficiently because it deals with training instances indipendently, one at a time. "
   ]
  },
  {
   "cell_type": "code",
   "execution_count": 34,
   "metadata": {},
   "outputs": [
    {
     "data": {
      "text/plain": [
       "SGDClassifier(random_state=42)"
      ]
     },
     "execution_count": 34,
     "metadata": {},
     "output_type": "execute_result"
    }
   ],
   "source": [
    "from sklearn.linear_model import SGDClassifier\n",
    "\n",
    "sgd_cl = SGDClassifier(random_state=42) #we set the random state so that we can have reproducible results\n",
    "\n",
    "sgd_cl.fit(X_train.values,y_train_5)#use the array of values on the fit function rather than the pahdas dataframe. else you get a warning."
   ]
  },
  {
   "cell_type": "markdown",
   "metadata": {},
   "source": [
    "Let us see whether it can predict the number 5"
   ]
  },
  {
   "cell_type": "code",
   "execution_count": 35,
   "metadata": {},
   "outputs": [
    {
     "data": {
      "text/plain": [
       "array([ True])"
      ]
     },
     "execution_count": 35,
     "metadata": {},
     "output_type": "execute_result"
    }
   ],
   "source": [
    "sgd_cl.predict([a_digit.values])#use the array of values dont provide column names. "
   ]
  },
  {
   "cell_type": "markdown",
   "metadata": {},
   "source": [
    "The model has correctly guessed that the digit represents a 5."
   ]
  },
  {
   "cell_type": "markdown",
   "metadata": {},
   "source": [
    "## Performance Measures"
   ]
  },
  {
   "cell_type": "markdown",
   "metadata": {},
   "source": [
    "Evaluating a classifier is significantly trickier than evaluating a regressor. "
   ]
  },
  {
   "cell_type": "markdown",
   "metadata": {},
   "source": [
    "### Measuring Accuracy using Cross-Validation"
   ]
  },
  {
   "cell_type": "markdown",
   "metadata": {},
   "source": [
    "Let us use the <code>cross_val_score()</code> to evaluate the <code>SGDClassifier</code> using K-fold cross vlidation with 3 folds."
   ]
  },
  {
   "cell_type": "code",
   "execution_count": 36,
   "metadata": {},
   "outputs": [
    {
     "data": {
      "text/plain": [
       "array([0.95035, 0.96035, 0.9604 ])"
      ]
     },
     "execution_count": 36,
     "metadata": {},
     "output_type": "execute_result"
    }
   ],
   "source": [
    "from sklearn.model_selection import cross_val_score\n",
    "\n",
    "cross_val_score(sgd_cl,X_train.values,y_train_5.values,cv=3,scoring=\"accuracy\")"
   ]
  },
  {
   "cell_type": "markdown",
   "metadata": {},
   "source": [
    "The models display a high accuracy. However, there is a small problem. since the true values are a small set of total dataset, then predicting not true will give us a higher accuracy even if the model is not predicting 5's correctly. "
   ]
  },
  {
   "cell_type": "markdown",
   "metadata": {},
   "source": [
    "### Confusion Matrix"
   ]
  },
  {
   "cell_type": "markdown",
   "metadata": {},
   "source": [
    "The general idea of a confusion matrix is to count the number of times instances of class 'A' are classified as class 'B'. eg o know the nmber of times the classiier confused 5 with 3, look in the fifth row and 3rd column."
   ]
  },
  {
   "cell_type": "markdown",
   "metadata": {},
   "source": [
    "To compute the confusion matrix, you first need a set of predictions, so they can be coompared to the actual target. \n",
    "\n",
    "You can do that using the <code>cross_val_predict()</code> function."
   ]
  },
  {
   "cell_type": "code",
   "execution_count": 37,
   "metadata": {},
   "outputs": [],
   "source": [
    "from sklearn.model_selection import cross_val_predict\n",
    "\n",
    "y_train_pred = cross_val_predict(sgd_cl,X_train.values,y_train_5.values,cv=3)"
   ]
  },
  {
   "cell_type": "markdown",
   "metadata": {},
   "source": [
    "Just like the <code>cross_val_score()</code> function, the <code>cross_val_predict()</code> function evaluates predictions with Kfold CV. \n",
    "\n",
    "However, the method does not return scores. rather, it returns the predictions made by the model for each instance. "
   ]
  },
  {
   "cell_type": "markdown",
   "metadata": {},
   "source": [
    "To get the confusion matrix, import the <code>confusion_matrix()</code> function, and pass it the target classes and the predicted classes."
   ]
  },
  {
   "cell_type": "code",
   "execution_count": 39,
   "metadata": {},
   "outputs": [
    {
     "data": {
      "text/plain": [
       "array([[53892,   687],\n",
       "       [ 1891,  3530]], dtype=int64)"
      ]
     },
     "execution_count": 39,
     "metadata": {},
     "output_type": "execute_result"
    }
   ],
   "source": [
    "from sklearn.metrics import confusion_matrix\n",
    "\n",
    "confusion_matrix(y_train_5,y_train_pred)"
   ]
  },
  {
   "cell_type": "markdown",
   "metadata": {},
   "source": [
    "Each row in a confusion matrix represents a class, while the column represents a predicted class. \n",
    "\n",
    "The first row of this matrix considers non-5 image (negative), where 54k were correct. These are called true negatives. On the other hand, 687 of the numbers were wrongly classified as 5. These are the false positive. \n",
    "\n",
    "The second row consider the 5 images. (positive). There were 1900 5s that were classified as non five (false negative), while 3500 were correctly classified as  5 (true positive)\n",
    "\n",
    "\n",
    "Thus, a perfect classifier has only true positives and true negatives with the other values as zero.\n",
    "\n",
    "Presicion is the accuracy of true positive predictions\n",
    "\n",
    "Recall is the ratio of true positive to all positive instances.\n",
    "\n",
    "\n",
    "\n"
   ]
  },
  {
   "cell_type": "markdown",
   "metadata": {},
   "source": [
    "### Precision and Recall"
   ]
  },
  {
   "cell_type": "markdown",
   "metadata": {},
   "source": [
    "Scikit learn provides several functions to compute classifier metrics. These also include precision and recall. "
   ]
  },
  {
   "cell_type": "code",
   "execution_count": 45,
   "metadata": {},
   "outputs": [
    {
     "name": "stdout",
     "output_type": "stream",
     "text": [
      "Precision: 0.8370879772350012 \n",
      "Recall: 0.6511713705958311\n"
     ]
    }
   ],
   "source": [
    "from sklearn.metrics import precision_score, recall_score\n",
    "\n",
    "\n",
    "print(f\"Precision: {precision_score(y_train_5,y_train_pred)} \\nRecall: {recall_score(y_train_5,y_train_pred)}\")"
   ]
  },
  {
   "cell_type": "markdown",
   "metadata": {},
   "source": [
    "When the model positively identifies a 5, it is 83 % correct. Also, it only detects 65% of the fives in the dataset."
   ]
  },
  {
   "cell_type": "markdown",
   "metadata": {},
   "source": [
    "It is often convinient to comobine precision and recall into a single metric called the F1 score. F1 score is the harmonic mean of precision and recall. "
   ]
  },
  {
   "cell_type": "code",
   "execution_count": 50,
   "metadata": {},
   "outputs": [
    {
     "name": "stdout",
     "output_type": "stream",
     "text": [
      "F1 Score:0.7325171197343846\n"
     ]
    }
   ],
   "source": [
    "from sklearn.metrics import f1_score\n",
    "\n",
    "f1s = f1_score(y_train_5,y_train_pred)\n",
    "\n",
    "print(f\"F1 Score:{f1s}\")"
   ]
  },
  {
   "cell_type": "markdown",
   "metadata": {},
   "source": [
    "One problem with F1 score is that it likes when precision and recall are close together. However, these might not be the case for all classifiers.\n",
    "\n",
    "Sometimes, we may want classifiers that have a high precision, even if it means low recall. eg a safe content for minors in a video platform.\n",
    "\n",
    "at other times, we may want a classifier with a high recall rate, even if it means low precision eg an ai to catch shoplifers.\n",
    "\n",
    "However, it is impossible to have a model with very high precision, and also high recall. There must be a tradeoff. \n",
    "\n"
   ]
  },
  {
   "cell_type": "markdown",
   "metadata": {},
   "source": [
    "#### Precision recall tradeoff"
   ]
  },
  {
   "cell_type": "markdown",
   "metadata": {},
   "source": []
  }
 ],
 "metadata": {
  "kernelspec": {
   "display_name": "base",
   "language": "python",
   "name": "python3"
  },
  "language_info": {
   "codemirror_mode": {
    "name": "ipython",
    "version": 3
   },
   "file_extension": ".py",
   "mimetype": "text/x-python",
   "name": "python",
   "nbconvert_exporter": "python",
   "pygments_lexer": "ipython3",
   "version": "3.9.12"
  }
 },
 "nbformat": 4,
 "nbformat_minor": 2
}
